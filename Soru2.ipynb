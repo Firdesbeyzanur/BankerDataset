{
 "cells": [
  {
   "cell_type": "markdown",
   "id": "3d97771f",
   "metadata": {},
   "source": [
    "#### İlk olarak kütüphaneleri aktive ettik. Ve bankacılık veri setini okuttuk. Her olasılığı göze alarak veri setinin yedeğini oluşturduk."
   ]
  },
  {
   "cell_type": "markdown",
   "id": "53966db3",
   "metadata": {},
   "source": [
    "#### Bankacılık Veri Seti:\n",
    "* age : Müşterinin Yaşı\n",
    "* job : Müşterinin İşi\n",
    "* marital : Müşterinin Medeni Durumu = married : evli, single : bekar\n",
    "* education : Müşterinin Eğitim Durumu = primary : ilköğretim, secondary : orta öğretim, tertiary : yüksek öğretim \n",
    "* default : Müşterinin Kusurlu Durumu Var Mı? = no : hayır, yes : evet\n",
    "* balance : Müşterinin Maaşı\n",
    "* housing : Müşterinin Evi Var Mı ? = no : hayır, yes : evet\n",
    "* loan : Müşterinin Borcu Var Mı ? = no : hayır, yes : evet\n",
    "* contact : İletişim\n",
    "* day : Gün\n",
    "* month : Ay\n",
    "* duration : Süre\n",
    "* campaign : Kampanya\n",
    "* pdays : Gün\n",
    "* previous : Önceki \n",
    "* poutcome : Sonuç = failure : başarısız, success : başarılı\n",
    "* y : Kabul Edilme Durumu : no : hayır, yes : evet"
   ]
  },
  {
   "cell_type": "code",
   "execution_count": 1,
   "id": "e3c179f7",
   "metadata": {},
   "outputs": [],
   "source": [
    "import pandas as pd\n",
    "import numpy as np\n",
    "import seaborn as sns\n",
    "import warnings "
   ]
  },
  {
   "cell_type": "code",
   "execution_count": 2,
   "id": "66b4f55e",
   "metadata": {},
   "outputs": [],
   "source": [
    "warnings.filterwarnings(\"ignore\")"
   ]
  },
  {
   "cell_type": "code",
   "execution_count": 3,
   "id": "54179652",
   "metadata": {},
   "outputs": [
    {
     "data": {
      "text/html": [
       "<div>\n",
       "<style scoped>\n",
       "    .dataframe tbody tr th:only-of-type {\n",
       "        vertical-align: middle;\n",
       "    }\n",
       "\n",
       "    .dataframe tbody tr th {\n",
       "        vertical-align: top;\n",
       "    }\n",
       "\n",
       "    .dataframe thead th {\n",
       "        text-align: right;\n",
       "    }\n",
       "</style>\n",
       "<table border=\"1\" class=\"dataframe\">\n",
       "  <thead>\n",
       "    <tr style=\"text-align: right;\">\n",
       "      <th></th>\n",
       "      <th>age</th>\n",
       "      <th>job</th>\n",
       "      <th>marital</th>\n",
       "      <th>education</th>\n",
       "      <th>default</th>\n",
       "      <th>balance</th>\n",
       "      <th>housing</th>\n",
       "      <th>loan</th>\n",
       "      <th>contact</th>\n",
       "      <th>day</th>\n",
       "      <th>month</th>\n",
       "      <th>duration</th>\n",
       "      <th>campaign</th>\n",
       "      <th>pdays</th>\n",
       "      <th>previous</th>\n",
       "      <th>poutcome</th>\n",
       "      <th>y</th>\n",
       "    </tr>\n",
       "  </thead>\n",
       "  <tbody>\n",
       "    <tr>\n",
       "      <th>0</th>\n",
       "      <td>58</td>\n",
       "      <td>management</td>\n",
       "      <td>married</td>\n",
       "      <td>tertiary</td>\n",
       "      <td>no</td>\n",
       "      <td>2143</td>\n",
       "      <td>yes</td>\n",
       "      <td>no</td>\n",
       "      <td>unknown</td>\n",
       "      <td>5</td>\n",
       "      <td>may</td>\n",
       "      <td>261</td>\n",
       "      <td>1</td>\n",
       "      <td>-1</td>\n",
       "      <td>0</td>\n",
       "      <td>unknown</td>\n",
       "      <td>no</td>\n",
       "    </tr>\n",
       "    <tr>\n",
       "      <th>1</th>\n",
       "      <td>44</td>\n",
       "      <td>technician</td>\n",
       "      <td>single</td>\n",
       "      <td>secondary</td>\n",
       "      <td>no</td>\n",
       "      <td>29</td>\n",
       "      <td>yes</td>\n",
       "      <td>no</td>\n",
       "      <td>unknown</td>\n",
       "      <td>5</td>\n",
       "      <td>may</td>\n",
       "      <td>151</td>\n",
       "      <td>1</td>\n",
       "      <td>-1</td>\n",
       "      <td>0</td>\n",
       "      <td>unknown</td>\n",
       "      <td>no</td>\n",
       "    </tr>\n",
       "    <tr>\n",
       "      <th>2</th>\n",
       "      <td>33</td>\n",
       "      <td>entrepreneur</td>\n",
       "      <td>married</td>\n",
       "      <td>secondary</td>\n",
       "      <td>no</td>\n",
       "      <td>2</td>\n",
       "      <td>yes</td>\n",
       "      <td>yes</td>\n",
       "      <td>unknown</td>\n",
       "      <td>5</td>\n",
       "      <td>may</td>\n",
       "      <td>76</td>\n",
       "      <td>1</td>\n",
       "      <td>-1</td>\n",
       "      <td>0</td>\n",
       "      <td>unknown</td>\n",
       "      <td>no</td>\n",
       "    </tr>\n",
       "    <tr>\n",
       "      <th>3</th>\n",
       "      <td>47</td>\n",
       "      <td>blue-collar</td>\n",
       "      <td>married</td>\n",
       "      <td>unknown</td>\n",
       "      <td>no</td>\n",
       "      <td>1506</td>\n",
       "      <td>yes</td>\n",
       "      <td>no</td>\n",
       "      <td>unknown</td>\n",
       "      <td>5</td>\n",
       "      <td>may</td>\n",
       "      <td>92</td>\n",
       "      <td>1</td>\n",
       "      <td>-1</td>\n",
       "      <td>0</td>\n",
       "      <td>unknown</td>\n",
       "      <td>no</td>\n",
       "    </tr>\n",
       "    <tr>\n",
       "      <th>4</th>\n",
       "      <td>33</td>\n",
       "      <td>unknown</td>\n",
       "      <td>single</td>\n",
       "      <td>unknown</td>\n",
       "      <td>no</td>\n",
       "      <td>1</td>\n",
       "      <td>no</td>\n",
       "      <td>no</td>\n",
       "      <td>unknown</td>\n",
       "      <td>5</td>\n",
       "      <td>may</td>\n",
       "      <td>198</td>\n",
       "      <td>1</td>\n",
       "      <td>-1</td>\n",
       "      <td>0</td>\n",
       "      <td>unknown</td>\n",
       "      <td>no</td>\n",
       "    </tr>\n",
       "  </tbody>\n",
       "</table>\n",
       "</div>"
      ],
      "text/plain": [
       "   age           job  marital  education default  balance housing loan  \\\n",
       "0   58    management  married   tertiary      no     2143     yes   no   \n",
       "1   44    technician   single  secondary      no       29     yes   no   \n",
       "2   33  entrepreneur  married  secondary      no        2     yes  yes   \n",
       "3   47   blue-collar  married    unknown      no     1506     yes   no   \n",
       "4   33       unknown   single    unknown      no        1      no   no   \n",
       "\n",
       "   contact  day month  duration  campaign  pdays  previous poutcome   y  \n",
       "0  unknown    5   may       261         1     -1         0  unknown  no  \n",
       "1  unknown    5   may       151         1     -1         0  unknown  no  \n",
       "2  unknown    5   may        76         1     -1         0  unknown  no  \n",
       "3  unknown    5   may        92         1     -1         0  unknown  no  \n",
       "4  unknown    5   may       198         1     -1         0  unknown  no  "
      ]
     },
     "execution_count": 3,
     "metadata": {},
     "output_type": "execute_result"
    }
   ],
   "source": [
    "bankaciVeriSeti=pd.read_excel(r\"C:\\Users\\beyza\\Desktop\\FirdesBeyzanurSenocak_20040718015\\ExcelVerileri\\banka.xlsx\")\n",
    "bankaciVeriSeti=bankaciVeriSeti[['age','job','marital','education','default','balance','housing','loan','contact','day','month','duration','campaign','pdays','previous','poutcome','y']]\n",
    "fbs = bankaciVeriSeti.copy()\n",
    "bankaciVeriSeti.head()"
   ]
  },
  {
   "cell_type": "code",
   "execution_count": 4,
   "id": "be292f29",
   "metadata": {
    "scrolled": true
   },
   "outputs": [
    {
     "data": {
      "text/html": [
       "<div>\n",
       "<style scoped>\n",
       "    .dataframe tbody tr th:only-of-type {\n",
       "        vertical-align: middle;\n",
       "    }\n",
       "\n",
       "    .dataframe tbody tr th {\n",
       "        vertical-align: top;\n",
       "    }\n",
       "\n",
       "    .dataframe thead th {\n",
       "        text-align: right;\n",
       "    }\n",
       "</style>\n",
       "<table border=\"1\" class=\"dataframe\">\n",
       "  <thead>\n",
       "    <tr style=\"text-align: right;\">\n",
       "      <th></th>\n",
       "      <th>Yaş</th>\n",
       "      <th>İş</th>\n",
       "      <th>Medeni Durum</th>\n",
       "      <th>Eğitim</th>\n",
       "      <th>Kusurlu Durum</th>\n",
       "      <th>Kazanç</th>\n",
       "      <th>Ev Sahibi Mi?</th>\n",
       "      <th>Borç Durumu</th>\n",
       "      <th>İletişim</th>\n",
       "      <th>Gün</th>\n",
       "      <th>Ay</th>\n",
       "      <th>Süre</th>\n",
       "      <th>Kampanya</th>\n",
       "      <th>Gün</th>\n",
       "      <th>Önceki</th>\n",
       "      <th>Sonuç</th>\n",
       "      <th>Kabul Durumu</th>\n",
       "    </tr>\n",
       "  </thead>\n",
       "  <tbody>\n",
       "    <tr>\n",
       "      <th>0</th>\n",
       "      <td>58</td>\n",
       "      <td>management</td>\n",
       "      <td>married</td>\n",
       "      <td>tertiary</td>\n",
       "      <td>no</td>\n",
       "      <td>2143</td>\n",
       "      <td>yes</td>\n",
       "      <td>no</td>\n",
       "      <td>unknown</td>\n",
       "      <td>5</td>\n",
       "      <td>may</td>\n",
       "      <td>261</td>\n",
       "      <td>1</td>\n",
       "      <td>-1</td>\n",
       "      <td>0</td>\n",
       "      <td>unknown</td>\n",
       "      <td>no</td>\n",
       "    </tr>\n",
       "    <tr>\n",
       "      <th>1</th>\n",
       "      <td>44</td>\n",
       "      <td>technician</td>\n",
       "      <td>single</td>\n",
       "      <td>secondary</td>\n",
       "      <td>no</td>\n",
       "      <td>29</td>\n",
       "      <td>yes</td>\n",
       "      <td>no</td>\n",
       "      <td>unknown</td>\n",
       "      <td>5</td>\n",
       "      <td>may</td>\n",
       "      <td>151</td>\n",
       "      <td>1</td>\n",
       "      <td>-1</td>\n",
       "      <td>0</td>\n",
       "      <td>unknown</td>\n",
       "      <td>no</td>\n",
       "    </tr>\n",
       "    <tr>\n",
       "      <th>2</th>\n",
       "      <td>33</td>\n",
       "      <td>entrepreneur</td>\n",
       "      <td>married</td>\n",
       "      <td>secondary</td>\n",
       "      <td>no</td>\n",
       "      <td>2</td>\n",
       "      <td>yes</td>\n",
       "      <td>yes</td>\n",
       "      <td>unknown</td>\n",
       "      <td>5</td>\n",
       "      <td>may</td>\n",
       "      <td>76</td>\n",
       "      <td>1</td>\n",
       "      <td>-1</td>\n",
       "      <td>0</td>\n",
       "      <td>unknown</td>\n",
       "      <td>no</td>\n",
       "    </tr>\n",
       "    <tr>\n",
       "      <th>3</th>\n",
       "      <td>47</td>\n",
       "      <td>blue-collar</td>\n",
       "      <td>married</td>\n",
       "      <td>unknown</td>\n",
       "      <td>no</td>\n",
       "      <td>1506</td>\n",
       "      <td>yes</td>\n",
       "      <td>no</td>\n",
       "      <td>unknown</td>\n",
       "      <td>5</td>\n",
       "      <td>may</td>\n",
       "      <td>92</td>\n",
       "      <td>1</td>\n",
       "      <td>-1</td>\n",
       "      <td>0</td>\n",
       "      <td>unknown</td>\n",
       "      <td>no</td>\n",
       "    </tr>\n",
       "    <tr>\n",
       "      <th>4</th>\n",
       "      <td>33</td>\n",
       "      <td>unknown</td>\n",
       "      <td>single</td>\n",
       "      <td>unknown</td>\n",
       "      <td>no</td>\n",
       "      <td>1</td>\n",
       "      <td>no</td>\n",
       "      <td>no</td>\n",
       "      <td>unknown</td>\n",
       "      <td>5</td>\n",
       "      <td>may</td>\n",
       "      <td>198</td>\n",
       "      <td>1</td>\n",
       "      <td>-1</td>\n",
       "      <td>0</td>\n",
       "      <td>unknown</td>\n",
       "      <td>no</td>\n",
       "    </tr>\n",
       "  </tbody>\n",
       "</table>\n",
       "</div>"
      ],
      "text/plain": [
       "   Yaş            İş Medeni Durum     Eğitim Kusurlu Durum  Kazanç  \\\n",
       "0   58    management      married   tertiary            no    2143   \n",
       "1   44    technician       single  secondary            no      29   \n",
       "2   33  entrepreneur      married  secondary            no       2   \n",
       "3   47   blue-collar      married    unknown            no    1506   \n",
       "4   33       unknown       single    unknown            no       1   \n",
       "\n",
       "  Ev Sahibi Mi? Borç Durumu İletişim  Gün   Ay  Süre  Kampanya  Gün  Önceki  \\\n",
       "0           yes          no  unknown    5  may   261         1   -1       0   \n",
       "1           yes          no  unknown    5  may   151         1   -1       0   \n",
       "2           yes         yes  unknown    5  may    76         1   -1       0   \n",
       "3           yes          no  unknown    5  may    92         1   -1       0   \n",
       "4            no          no  unknown    5  may   198         1   -1       0   \n",
       "\n",
       "     Sonuç Kabul Durumu  \n",
       "0  unknown           no  \n",
       "1  unknown           no  \n",
       "2  unknown           no  \n",
       "3  unknown           no  \n",
       "4  unknown           no  "
      ]
     },
     "execution_count": 4,
     "metadata": {},
     "output_type": "execute_result"
    }
   ],
   "source": [
    "yeniİsimlendirmeler = ['Yaş','İş','Medeni Durum','Eğitim','Kusurlu Durum','Kazanç','Ev Sahibi Mi?','Borç Durumu','İletişim',\n",
    "                       'Gün','Ay','Süre','Kampanya','Gün','Önceki','Sonuç','Kabul Durumu']\n",
    "bankaciVeriSeti.columns = yeniİsimlendirmeler\n",
    "bankaciVeriSeti.head()"
   ]
  },
  {
   "cell_type": "markdown",
   "id": "17a7e042",
   "metadata": {},
   "source": [
    "#### Veri setimize kullanicilar adlı bir değişken tanımladık."
   ]
  },
  {
   "cell_type": "code",
   "execution_count": 5,
   "id": "bb6b370b",
   "metadata": {},
   "outputs": [],
   "source": [
    "bankaciVeriSeti_kullanicilar = pd.DataFrame(np.arange(0,len(bankaciVeriSeti)), columns=['kullanicilar'])\n",
    "bankaciVeriSeti = pd.concat([bankaciVeriSeti_kullanicilar, bankaciVeriSeti], axis=1)"
   ]
  },
  {
   "cell_type": "markdown",
   "id": "6fb9d881",
   "metadata": {},
   "source": [
    "#### Veri setimizde bulunan Kabul Durumu verisinin no ve yes cevaplarının kaçar tane olduğunu öğrendik."
   ]
  },
  {
   "cell_type": "code",
   "execution_count": 6,
   "id": "79e0e2a7",
   "metadata": {},
   "outputs": [
    {
     "data": {
      "text/plain": [
       "no     39922\n",
       "yes     5289\n",
       "Name: Kabul Durumu, dtype: int64"
      ]
     },
     "execution_count": 6,
     "metadata": {},
     "output_type": "execute_result"
    }
   ],
   "source": [
    "bankaciVeriSeti['Kabul Durumu'].value_counts()"
   ]
  },
  {
   "cell_type": "markdown",
   "id": "862d19fb",
   "metadata": {},
   "source": [
    "#### X değişkenine ve Y değişkenine bazı veriler atadık."
   ]
  },
  {
   "cell_type": "code",
   "execution_count": 7,
   "id": "3204fcaf",
   "metadata": {},
   "outputs": [],
   "source": [
    "X = bankaciVeriSeti.drop(['Kabul Durumu','kullanicilar','İş','Medeni Durum','Eğitim','Kazanç','İletişim','Ev Sahibi Mi?',\n",
    "                       'Borç Durumu','Gün','Ay','Sonuç' ], axis=1)\n",
    "Y = bankaciVeriSeti['Kabul Durumu']"
   ]
  },
  {
   "cell_type": "code",
   "execution_count": 8,
   "id": "fdc999ae",
   "metadata": {},
   "outputs": [],
   "source": [
    "X = pd.get_dummies(X)\n",
    "Y = pd.get_dummies(Y)"
   ]
  },
  {
   "cell_type": "markdown",
   "id": "d30fed65",
   "metadata": {},
   "source": [
    "#### X sütunun da Kusurlu Durum_no verisini sildik ve Kusurlu Durum_yes verisini Kusurlu Duruma eşitledik.\n",
    "#### Y sütunun da ise yes cevaplarını sildik no cevaplarını Kabul Durumuna eşitledik."
   ]
  },
  {
   "cell_type": "code",
   "execution_count": 9,
   "id": "b326f657",
   "metadata": {},
   "outputs": [],
   "source": [
    "X.columns\n",
    "X = X.drop(['Kusurlu Durum_no'], axis= 1)\n",
    "X = X.rename(columns = {'Kusurlu Durum_yes': 'Kusurlu Durum'})\n",
    "Y.columns\n",
    "Y = Y.drop(['yes'], axis=1)\n",
    "Y = Y.rename(columns= {'no': 'Kabul Durumu'})"
   ]
  },
  {
   "cell_type": "markdown",
   "id": "726348b9",
   "metadata": {},
   "source": [
    "#### X ve Y'yi train ve test verisi olarak ayırdık."
   ]
  },
  {
   "cell_type": "code",
   "execution_count": 10,
   "id": "b5a6f7db",
   "metadata": {},
   "outputs": [],
   "source": [
    "from sklearn.model_selection import train_test_split\n",
    "XDizisi, XTest, YDizisi, YTest = train_test_split(X, Y, test_size=0.2, stratify=Y, random_state=0)"
   ]
  },
  {
   "cell_type": "code",
   "execution_count": 11,
   "id": "ac3d3386",
   "metadata": {},
   "outputs": [],
   "source": [
    "import random\n",
    "pozitifindex = YDizisi[YDizisi.values == 1].index\n",
    "negatifindex = YDizisi[YDizisi.values == 0].index\n",
    "\n",
    "if len(pozitifindex) > len(negatifindex):\n",
    "    yuksek = pozitifindex\n",
    "    alcak = negatifindex\n",
    "else:\n",
    "    yuksek = negatifindex\n",
    "    alcak = pozitifindex\n",
    "\n",
    "random.seed(0)\n",
    "yuksek = np.random.choice(yuksek, size=len(alcak))\n",
    "alcak = np.asarray(alcak)\n",
    "Yeniindex = np.concatenate((alcak, yuksek))\n",
    "\n",
    "XDizisi = XDizisi.loc[Yeniindex]\n",
    "YDizisi = YDizisi.loc[Yeniindex]"
   ]
  },
  {
   "cell_type": "markdown",
   "id": "a090598f",
   "metadata": {},
   "source": [
    "#### Logistic Regression hesapladık."
   ]
  },
  {
   "cell_type": "code",
   "execution_count": 12,
   "id": "af671138",
   "metadata": {
    "scrolled": true
   },
   "outputs": [
    {
     "name": "stdout",
     "output_type": "stream",
     "text": [
      "[[ 725  333]\n",
      " [1482 6503]]\n",
      "              precision    recall  f1-score   support\n",
      "\n",
      "           0       0.33      0.69      0.44      1058\n",
      "           1       0.95      0.81      0.88      7985\n",
      "\n",
      "    accuracy                           0.80      9043\n",
      "   macro avg       0.64      0.75      0.66      9043\n",
      "weighted avg       0.88      0.80      0.83      9043\n",
      "\n"
     ]
    }
   ],
   "source": [
    "from sklearn.linear_model import LogisticRegression\n",
    "from sklearn.metrics import confusion_matrix\n",
    "classifier = LogisticRegression(random_state = 0, penalty = 'l2')\n",
    "classifier.fit(XDizisi, YDizisi)\n",
    "YTahmini = classifier.predict(XTest)\n",
    "from sklearn.metrics import classification_report\n",
    "print(confusion_matrix(YTest,YTahmini))\n",
    "print(classification_report(YTest,YTahmini))"
   ]
  },
  {
   "cell_type": "markdown",
   "id": "8484a8e8",
   "metadata": {},
   "source": [
    "#### Confusion (Karışıklık) Matrisini çizdirdik."
   ]
  },
  {
   "cell_type": "code",
   "execution_count": 13,
   "id": "6fd19f12",
   "metadata": {
    "scrolled": true
   },
   "outputs": [
    {
     "data": {
      "text/plain": [
       "<AxesSubplot:>"
      ]
     },
     "execution_count": 13,
     "metadata": {},
     "output_type": "execute_result"
    },
    {
     "data": {
      "image/png": "[encoded data removed]",
      "text/plain": [
       "<Figure size 720x504 with 2 Axes>"
      ]
     },
     "metadata": {
      "needs_background": "light"
     },
     "output_type": "display_data"
    }
   ],
   "source": [
    "import matplotlib.pyplot as plt\n",
    "karisiklikMatrisi = confusion_matrix(YTest, YTahmini) \n",
    "bankaciVeriSeti_karisiklikMatrisi = pd.DataFrame(karisiklikMatrisi, index = (0, 1), columns = (0, 1))\n",
    "plt.figure(figsize = (10,7))\n",
    "sns.set(font_scale=1.4)\n",
    "sns.heatmap(bankaciVeriSeti_karisiklikMatrisi, annot=True, fmt='g')"
   ]
  },
  {
   "cell_type": "markdown",
   "id": "07aff9cf",
   "metadata": {},
   "source": [
    "#### Naive Bayes hesapladık."
   ]
  },
  {
   "cell_type": "code",
   "execution_count": 14,
   "id": "4c626f56",
   "metadata": {
    "scrolled": true
   },
   "outputs": [
    {
     "name": "stdout",
     "output_type": "stream",
     "text": [
      "[[ 726  332]\n",
      " [1500 6485]]\n",
      "              precision    recall  f1-score   support\n",
      "\n",
      "           0       0.33      0.69      0.44      1058\n",
      "           1       0.95      0.81      0.88      7985\n",
      "\n",
      "    accuracy                           0.80      9043\n",
      "   macro avg       0.64      0.75      0.66      9043\n",
      "weighted avg       0.88      0.80      0.83      9043\n",
      "\n"
     ]
    }
   ],
   "source": [
    "from sklearn.naive_bayes import GaussianNB\n",
    "from sklearn.metrics import confusion_matrix\n",
    "\n",
    "classifier = GaussianNB()\n",
    "classifier.fit(XDizisi, YDizisi)\n",
    "\n",
    "Y1Tahmini = classifier.predict(XTest)\n",
    "from sklearn.metrics import classification_report\n",
    "print(confusion_matrix(YTest,Y1Tahmini))\n",
    "print(classification_report(YTest,Y1Tahmini))"
   ]
  },
  {
   "cell_type": "markdown",
   "id": "a35f97d4",
   "metadata": {},
   "source": [
    "#### Confusion (Karışıklık) Matrisini çizdirdik."
   ]
  },
  {
   "cell_type": "code",
   "execution_count": 15,
   "id": "12ff2055",
   "metadata": {
    "scrolled": true
   },
   "outputs": [
    {
     "data": {
      "text/plain": [
       "<AxesSubplot:>"
      ]
     },
     "execution_count": 15,
     "metadata": {},
     "output_type": "execute_result"
    },
    {
     "data": {
      "image/png": "[encoded data removed]",
      "text/plain": [
       "<Figure size 720x504 with 2 Axes>"
      ]
     },
     "metadata": {},
     "output_type": "display_data"
    }
   ],
   "source": [
    "import matplotlib.pyplot as plt\n",
    "karisiklikMatrisi = confusion_matrix(YTest, Y1Tahmini) \n",
    "bankaciVeriSeti_karisiklikMatrisi= pd.DataFrame(karisiklikMatrisi, index = (0, 1), columns = (0, 1))\n",
    "plt.figure(figsize = (10,7))\n",
    "sns.set(font_scale=1.4)\n",
    "sns.heatmap(bankaciVeriSeti_karisiklikMatrisi, annot=True, fmt='g')"
   ]
  },
  {
   "cell_type": "markdown",
   "id": "5b5ff47a",
   "metadata": {},
   "source": [
    "#### Support Vector Machines hesapladık."
   ]
  },
  {
   "cell_type": "code",
   "execution_count": 16,
   "id": "ed14409d",
   "metadata": {},
   "outputs": [
    {
     "name": "stdout",
     "output_type": "stream",
     "text": [
      "[[ 706  352]\n",
      " [1925 6060]]\n",
      "              precision    recall  f1-score   support\n",
      "\n",
      "           0       0.27      0.67      0.38      1058\n",
      "           1       0.95      0.76      0.84      7985\n",
      "\n",
      "    accuracy                           0.75      9043\n",
      "   macro avg       0.61      0.71      0.61      9043\n",
      "weighted avg       0.87      0.75      0.79      9043\n",
      "\n"
     ]
    }
   ],
   "source": [
    "from sklearn.svm import SVC\n",
    "from sklearn.metrics import confusion_matrix\n",
    "\n",
    "classifier = SVC(random_state = 0, kernel = 'rbf', probability= True)\n",
    "classifier.fit(XDizisi, YDizisi)\n",
    "\n",
    "Y2Tahmini = classifier.predict(XTest)\n",
    "from sklearn.metrics import classification_report\n",
    "print(confusion_matrix(YTest,Y2Tahmini))\n",
    "print(classification_report(YTest,Y2Tahmini))"
   ]
  },
  {
   "cell_type": "markdown",
   "id": "366f80a2",
   "metadata": {},
   "source": [
    "#### Confusion (Karışıklık) Matrisini çizdirdik."
   ]
  },
  {
   "cell_type": "code",
   "execution_count": 17,
   "id": "2e235813",
   "metadata": {
    "scrolled": true
   },
   "outputs": [
    {
     "data": {
      "text/plain": [
       "<AxesSubplot:>"
      ]
     },
     "execution_count": 17,
     "metadata": {},
     "output_type": "execute_result"
    },
    {
     "data": {
      "image/png": "[encoded data removed]",
      "text/plain": [
       "<Figure size 720x504 with 2 Axes>"
      ]
     },
     "metadata": {},
     "output_type": "display_data"
    }
   ],
   "source": [
    "import matplotlib.pyplot as plt\n",
    "karisiklikMatrisi = confusion_matrix(YTest, Y2Tahmini)\n",
    "bankaciVeriSeti_karisiklikMatrisi = pd.DataFrame(karisiklikMatrisi, index = (0, 1), columns = (0, 1))\n",
    "plt.figure(figsize = (10,7))\n",
    "sns.set(font_scale=1.4)\n",
    "sns.heatmap(bankaciVeriSeti_karisiklikMatrisi, annot=True, fmt='g')"
   ]
  },
  {
   "cell_type": "markdown",
   "id": "45434837",
   "metadata": {},
   "source": [
    "#### K-Neighbors Classifier hesapladık."
   ]
  },
  {
   "cell_type": "code",
   "execution_count": 18,
   "id": "437d8edd",
   "metadata": {
    "scrolled": true
   },
   "outputs": [
    {
     "name": "stdout",
     "output_type": "stream",
     "text": [
      "[[ 773  285]\n",
      " [1879 6106]]\n",
      "              precision    recall  f1-score   support\n",
      "\n",
      "           0       0.29      0.73      0.42      1058\n",
      "           1       0.96      0.76      0.85      7985\n",
      "\n",
      "    accuracy                           0.76      9043\n",
      "   macro avg       0.62      0.75      0.63      9043\n",
      "weighted avg       0.88      0.76      0.80      9043\n",
      "\n"
     ]
    }
   ],
   "source": [
    "from sklearn.neighbors import KNeighborsClassifier\n",
    "from sklearn.metrics import confusion_matrix\n",
    "\n",
    "classifier = KNeighborsClassifier(n_neighbors=15, metric='minkowski', p= 2)\n",
    "classifier.fit(XDizisi, YDizisi)\n",
    "\n",
    "Y3Tahmini = classifier.predict(XTest)\n",
    "from sklearn.metrics import classification_report\n",
    "print(confusion_matrix(YTest,Y3Tahmini))\n",
    "print(classification_report(YTest,Y3Tahmini))\n"
   ]
  },
  {
   "cell_type": "markdown",
   "id": "59c12aa9",
   "metadata": {},
   "source": [
    "#### Confusion (Karışıklık) Matrisini çizdirdik."
   ]
  },
  {
   "cell_type": "code",
   "execution_count": 19,
   "id": "590fd460",
   "metadata": {},
   "outputs": [
    {
     "data": {
      "text/plain": [
       "<AxesSubplot:>"
      ]
     },
     "execution_count": 19,
     "metadata": {},
     "output_type": "execute_result"
    },
    {
     "data": {
      "image/png": "[encoded data removed]",
      "text/plain": [
       "<Figure size 720x504 with 2 Axes>"
      ]
     },
     "metadata": {},
     "output_type": "display_data"
    }
   ],
   "source": [
    "import matplotlib.pyplot as plt\n",
    "karisiklikMatrisi = confusion_matrix(YTest, Y3Tahmini) \n",
    "bankaciVeriSeti_karisiklikMatrisi = pd.DataFrame(karisiklikMatrisi, index = (0, 1), columns = (0, 1))\n",
    "plt.figure(figsize = (10,7))\n",
    "sns.set(font_scale=1.4)\n",
    "sns.heatmap(bankaciVeriSeti_karisiklikMatrisi, annot=True, fmt='g')"
   ]
  },
  {
   "cell_type": "code",
   "execution_count": 20,
   "id": "6b0441b8",
   "metadata": {},
   "outputs": [
    {
     "data": {
      "text/plain": [
       "MLPClassifier(hidden_layer_sizes=(10, 10, 10, 10), max_iter=10000)"
      ]
     },
     "execution_count": 20,
     "metadata": {},
     "output_type": "execute_result"
    }
   ],
   "source": [
    "from sklearn.neural_network import MLPClassifier\n",
    "mlpSiniflama = MLPClassifier(hidden_layer_sizes=(10, 10, 10, 10), max_iter=10000)\n",
    "mlpSiniflama.fit(XDizisi, YDizisi.values.ravel())"
   ]
  },
  {
   "cell_type": "code",
   "execution_count": 21,
   "id": "944acab9",
   "metadata": {},
   "outputs": [],
   "source": [
    "Y4Tahmini = mlpSiniflama.predict(XTest)"
   ]
  },
  {
   "cell_type": "markdown",
   "id": "500b3865",
   "metadata": {},
   "source": [
    "#### Yapay Sinir Ağlarını hesapladık."
   ]
  },
  {
   "cell_type": "code",
   "execution_count": 22,
   "id": "733e65e0",
   "metadata": {
    "scrolled": true
   },
   "outputs": [
    {
     "name": "stdout",
     "output_type": "stream",
     "text": [
      "[[ 815  243]\n",
      " [1923 6062]]\n",
      "              precision    recall  f1-score   support\n",
      "\n",
      "           0       0.30      0.77      0.43      1058\n",
      "           1       0.96      0.76      0.85      7985\n",
      "\n",
      "    accuracy                           0.76      9043\n",
      "   macro avg       0.63      0.76      0.64      9043\n",
      "weighted avg       0.88      0.76      0.80      9043\n",
      "\n"
     ]
    }
   ],
   "source": [
    "from sklearn.metrics import classification_report, confusion_matrix\n",
    "print(confusion_matrix(YTest,Y4Tahmini))\n",
    "print(classification_report(YTest,Y4Tahmini))"
   ]
  },
  {
   "cell_type": "markdown",
   "id": "2023e6b8",
   "metadata": {},
   "source": [
    "#### Confusion (Karışıklık) Matrisini çizdirdik."
   ]
  },
  {
   "cell_type": "code",
   "execution_count": 23,
   "id": "de8fde05",
   "metadata": {},
   "outputs": [
    {
     "data": {
      "text/plain": [
       "<AxesSubplot:>"
      ]
     },
     "execution_count": 23,
     "metadata": {},
     "output_type": "execute_result"
    },
    {
     "data": {
      "image/png": "[encoded data removed]",
      "text/plain": [
       "<Figure size 720x504 with 2 Axes>"
      ]
     },
     "metadata": {},
     "output_type": "display_data"
    }
   ],
   "source": [
    "import matplotlib.pyplot as plt\n",
    "karisiklikMatrisi = confusion_matrix(YTest, Y4Tahmini) \n",
    "bankaciVeriSeti_karisiklikMatrisi = pd.DataFrame(karisiklikMatrisi, index = (0, 1), columns = (0, 1))\n",
    "plt.figure(figsize = (10,7))\n",
    "sns.set(font_scale=1.4)\n",
    "sns.heatmap(bankaciVeriSeti_karisiklikMatrisi, annot=True, fmt='g')"
   ]
  }
 ],
 "metadata": {
  "kernelspec": {
   "display_name": "Python 3",
   "language": "python",
   "name": "python3"
  },
  "language_info": {
   "codemirror_mode": {
    "name": "ipython",
    "version": 3
   },
   "file_extension": ".py",
   "mimetype": "text/x-python",
   "name": "python",
   "nbconvert_exporter": "python",
   "pygments_lexer": "ipython3",
   "version": "3.8.8"
  }
 },
 "nbformat": 4,
 "nbformat_minor": 5
}
